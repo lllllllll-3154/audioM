{
 "cells": [
  {
   "cell_type": "code",
   "execution_count": 1,
   "metadata": {},
   "outputs": [],
   "source": [
    "import torch\n",
    "import torch.nn as nn\n",
    "import torchvision\n",
    "import torchvision.models as models\n",
    "import torchvision.transforms as transforms\n",
    "import numpy as np\n",
    "import matplotlib.pyplot as plt\n",
    "import torch.optim as optim\n",
    "import copy\n",
    "import pandas as pd \n",
    "from torch.utils.data import DataLoader\n",
    "from dataset import MyDataset\n",
    "from Alexnet import AudioAlexNet_digit\n",
    "from torch.nn import CrossEntropyLoss\n",
    "from torch.optim import Adam\n",
    "import os\n",
    "import argparse\n",
    "from torch.nn import BCELoss\n",
    "\n",
    "\n",
    "\n",
    "\n"
   ]
  },
  {
   "cell_type": "code",
   "execution_count": 2,
   "metadata": {},
   "outputs": [],
   "source": [
    "device = torch.device(\"cuda:0\")"
   ]
  },
  {
   "cell_type": "code",
   "execution_count": 13,
   "metadata": {},
   "outputs": [],
   "source": [
    "#speicify your targets here\n",
    "root_dir = '../'\n",
    "splits_path = 'preprocessed_data'\n",
    "selected_num=0\n",
    "samples = 1000\n",
    "task=\"digit\"\n",
    "batch_size = 16"
   ]
  },
  {
   "cell_type": "code",
   "execution_count": 14,
   "metadata": {},
   "outputs": [],
   "source": [
    "train_dataset = MyDataset(root_dir,splits_path, selected_num, \"train\",samples=samples,task=task)\n",
    "test_dataset = MyDataset(root_dir,splits_path, selected_num, \"test\",samples=samples,task=task)"
   ]
  },
  {
   "cell_type": "code",
   "execution_count": 16,
   "metadata": {},
   "outputs": [],
   "source": [
    "#Choose your model here\n",
    "model = torch.load(\"../pre_trained_model/{}/best_acc.pth\".format(task))"
   ]
  },
  {
   "cell_type": "code",
   "execution_count": 17,
   "metadata": {},
   "outputs": [],
   "source": [
    "train_loader = DataLoader(train_dataset, batch_size=batch_size, shuffle=True, num_workers=0, drop_last=False)\n",
    "test_loader = DataLoader(test_dataset, batch_size=batch_size, shuffle=True, num_workers=0, drop_last=False)\n"
   ]
  },
  {
   "cell_type": "code",
   "execution_count": 18,
   "metadata": {},
   "outputs": [],
   "source": [
    "imgs,targets = next(iter(test_loader))"
   ]
  },
  {
   "cell_type": "code",
   "execution_count": 19,
   "metadata": {},
   "outputs": [],
   "source": [
    "imgs, targets = imgs.to(device),targets.to(device)"
   ]
  },
  {
   "cell_type": "code",
   "execution_count": 20,
   "metadata": {},
   "outputs": [],
   "source": [
    "outputs = model(imgs)\n",
    "outputs = outputs.max(1).indices.detach().cpu().numpy()"
   ]
  },
  {
   "cell_type": "code",
   "execution_count": 21,
   "metadata": {},
   "outputs": [],
   "source": [
    "targets = targets.cpu().numpy()"
   ]
  },
  {
   "cell_type": "code",
   "execution_count": 22,
   "metadata": {},
   "outputs": [
    {
     "name": "stdout",
     "output_type": "stream",
     "text": [
      "Batch accuracy:  1.0\n"
     ]
    }
   ],
   "source": [
    "comparison = pd.DataFrame()\n",
    "print(\"Batch accuracy: \", (targets==outputs).sum()/len(targets))\n",
    "comparison[\"labels\"] = targets\n",
    "\n",
    "comparison[\"outputs\"] = outputs"
   ]
  },
  {
   "cell_type": "code",
   "execution_count": 23,
   "metadata": {},
   "outputs": [
    {
     "data": {
      "text/html": [
       "<div>\n",
       "<style scoped>\n",
       "    .dataframe tbody tr th:only-of-type {\n",
       "        vertical-align: middle;\n",
       "    }\n",
       "\n",
       "    .dataframe tbody tr th {\n",
       "        vertical-align: top;\n",
       "    }\n",
       "\n",
       "    .dataframe thead th {\n",
       "        text-align: right;\n",
       "    }\n",
       "</style>\n",
       "<table border=\"1\" class=\"dataframe\">\n",
       "  <thead>\n",
       "    <tr style=\"text-align: right;\">\n",
       "      <th></th>\n",
       "      <th>labels</th>\n",
       "      <th>outputs</th>\n",
       "    </tr>\n",
       "  </thead>\n",
       "  <tbody>\n",
       "    <tr>\n",
       "      <th>0</th>\n",
       "      <td>0</td>\n",
       "      <td>0</td>\n",
       "    </tr>\n",
       "    <tr>\n",
       "      <th>1</th>\n",
       "      <td>3</td>\n",
       "      <td>3</td>\n",
       "    </tr>\n",
       "    <tr>\n",
       "      <th>2</th>\n",
       "      <td>0</td>\n",
       "      <td>0</td>\n",
       "    </tr>\n",
       "    <tr>\n",
       "      <th>3</th>\n",
       "      <td>4</td>\n",
       "      <td>4</td>\n",
       "    </tr>\n",
       "    <tr>\n",
       "      <th>4</th>\n",
       "      <td>6</td>\n",
       "      <td>6</td>\n",
       "    </tr>\n",
       "    <tr>\n",
       "      <th>5</th>\n",
       "      <td>9</td>\n",
       "      <td>9</td>\n",
       "    </tr>\n",
       "    <tr>\n",
       "      <th>6</th>\n",
       "      <td>4</td>\n",
       "      <td>4</td>\n",
       "    </tr>\n",
       "    <tr>\n",
       "      <th>7</th>\n",
       "      <td>2</td>\n",
       "      <td>2</td>\n",
       "    </tr>\n",
       "    <tr>\n",
       "      <th>8</th>\n",
       "      <td>9</td>\n",
       "      <td>9</td>\n",
       "    </tr>\n",
       "    <tr>\n",
       "      <th>9</th>\n",
       "      <td>0</td>\n",
       "      <td>0</td>\n",
       "    </tr>\n",
       "    <tr>\n",
       "      <th>10</th>\n",
       "      <td>7</td>\n",
       "      <td>7</td>\n",
       "    </tr>\n",
       "    <tr>\n",
       "      <th>11</th>\n",
       "      <td>7</td>\n",
       "      <td>7</td>\n",
       "    </tr>\n",
       "    <tr>\n",
       "      <th>12</th>\n",
       "      <td>8</td>\n",
       "      <td>8</td>\n",
       "    </tr>\n",
       "    <tr>\n",
       "      <th>13</th>\n",
       "      <td>7</td>\n",
       "      <td>7</td>\n",
       "    </tr>\n",
       "    <tr>\n",
       "      <th>14</th>\n",
       "      <td>2</td>\n",
       "      <td>2</td>\n",
       "    </tr>\n",
       "    <tr>\n",
       "      <th>15</th>\n",
       "      <td>6</td>\n",
       "      <td>6</td>\n",
       "    </tr>\n",
       "  </tbody>\n",
       "</table>\n",
       "</div>"
      ],
      "text/plain": [
       "    labels  outputs\n",
       "0        0        0\n",
       "1        3        3\n",
       "2        0        0\n",
       "3        4        4\n",
       "4        6        6\n",
       "5        9        9\n",
       "6        4        4\n",
       "7        2        2\n",
       "8        9        9\n",
       "9        0        0\n",
       "10       7        7\n",
       "11       7        7\n",
       "12       8        8\n",
       "13       7        7\n",
       "14       2        2\n",
       "15       6        6"
      ]
     },
     "execution_count": 23,
     "metadata": {},
     "output_type": "execute_result"
    }
   ],
   "source": [
    "comparison"
   ]
  },
  {
   "cell_type": "code",
   "execution_count": 24,
   "metadata": {},
   "outputs": [
    {
     "data": {
      "text/plain": [
       "OrderedDict([('features',\n",
       "              Sequential(\n",
       "                (0): Conv2d(1, 96, kernel_size=(11, 11), stride=(4, 4))\n",
       "                (1): ReLU(inplace=True)\n",
       "                (2): MaxPool2d(kernel_size=3, stride=2, padding=0, dilation=1, ceil_mode=False)\n",
       "                (3): Conv2d(96, 256, kernel_size=(5, 5), stride=(1, 1), padding=(2, 2), groups=2)\n",
       "                (4): ReLU(inplace=True)\n",
       "                (5): MaxPool2d(kernel_size=3, stride=2, padding=0, dilation=1, ceil_mode=False)\n",
       "                (6): Conv2d(256, 384, kernel_size=(3, 3), stride=(1, 1), padding=(1, 1))\n",
       "                (7): ReLU(inplace=True)\n",
       "                (8): Conv2d(384, 384, kernel_size=(3, 3), stride=(1, 1), padding=(1, 1))\n",
       "                (9): ReLU(inplace=True)\n",
       "                (10): Conv2d(384, 256, kernel_size=(3, 3), stride=(1, 1), padding=(1, 1), groups=2)\n",
       "                (11): ReLU(inplace=True)\n",
       "                (12): MaxPool2d(kernel_size=3, stride=2, padding=0, dilation=1, ceil_mode=False)\n",
       "              )),\n",
       "             ('classifier',\n",
       "              Sequential(\n",
       "                (0): Linear(in_features=9216, out_features=1024, bias=True)\n",
       "                (1): ReLU(inplace=True)\n",
       "                (2): Dropout(p=0.5, inplace=False)\n",
       "                (3): Linear(in_features=1024, out_features=1024, bias=True)\n",
       "                (4): ReLU(inplace=True)\n",
       "                (5): Dropout(p=0.5, inplace=False)\n",
       "                (6): Linear(in_features=1024, out_features=10, bias=True)\n",
       "                (7): Softmax(dim=1)\n",
       "              ))])"
      ]
     },
     "execution_count": 24,
     "metadata": {},
     "output_type": "execute_result"
    }
   ],
   "source": [
    "model._modules"
   ]
  },
  {
   "cell_type": "code",
   "execution_count": 25,
   "metadata": {},
   "outputs": [],
   "source": [
    "def new_layer(layer, g):\n",
    "    \"\"\"Clone a layer and pass its parameters through the function g.\"\"\"\n",
    "    layer = copy.deepcopy(layer)\n",
    "    try: layer.weight = torch.nn.Parameter(g(layer.weight))\n",
    "    except AttributeError: pass\n",
    "    try: layer.bias = torch.nn.Parameter(g(layer.bias))\n",
    "    except AttributeError: pass\n",
    "    return layer\n",
    "\n"
   ]
  },
  {
   "cell_type": "code",
   "execution_count": 26,
   "metadata": {},
   "outputs": [],
   "source": [
    "def dense_to_conv(layers):\n",
    "    \"\"\" Converts a dense layer to a conv layer \"\"\"\n",
    "    newlayers = []\n",
    "    for i,layer in enumerate(layers):\n",
    "        if isinstance(layer, nn.Linear):\n",
    "            newlayer = None\n",
    "            if i == 0:\n",
    "                m, n = 256, layer.weight.shape[0]\n",
    "                newlayer = nn.Conv2d(m,n,6)\n",
    "                newlayer.weight = nn.Parameter(layer.weight.reshape(n,m,6,6))\n",
    "            else:\n",
    "                m,n = layer.weight.shape[1],layer.weight.shape[0]\n",
    "                newlayer = nn.Conv2d(m,n,1)\n",
    "                newlayer.weight = nn.Parameter(layer.weight.reshape(n,m,1,1))\n",
    "            newlayer.bias = nn.Parameter(layer.bias)\n",
    "            newlayers += [newlayer]\n",
    "        else:\n",
    "            newlayers += [layer]\n",
    "    return newlayers\n",
    "\n"
   ]
  },
  {
   "cell_type": "code",
   "execution_count": 27,
   "metadata": {},
   "outputs": [],
   "source": [
    "def get_linear_layer_indices(model):\n",
    "    offset = len(model._modules['features']) + 1\n",
    "    indices = []\n",
    "    for i, layer in enumerate(model._modules['classifier']): \n",
    "        if isinstance(layer, nn.Linear): \n",
    "            indices.append(i)\n",
    "    indices = [offset + val for val in indices]\n",
    "    return indices\n",
    "\n"
   ]
  },
  {
   "cell_type": "code",
   "execution_count": 28,
   "metadata": {},
   "outputs": [],
   "source": [
    "def apply_lrp(model, image):\n",
    "    image = torch.unsqueeze(image, 0)\n",
    "    layers = list(model._modules['features']) \\\n",
    "                + dense_to_conv(list(model._modules['classifier']))\n",
    "    linear_layer_indices = get_linear_layer_indices(model)\n",
    "    n_layers = len(layers)\n",
    "    activations = [image] + [None] * n_layers # list of activations\n",
    "    for layer in range(n_layers):\n",
    "        if layer in linear_layer_indices:\n",
    "            if layer == 14:\n",
    "                activations[layer] = activations[layer].reshape((1, 1024, 1, 1))\n",
    "        activation = layers[layer].forward(activations[layer])\n",
    "        if isinstance(layers[layer], torch.nn.modules.pooling.AdaptiveAvgPool2d):\n",
    "            activation = torch.flatten(activation, start_dim=1)\n",
    "        activations[layer+1] = activation\n",
    "\n",
    "    output_activation = activations[-1].detach().cpu().numpy()\n",
    "    max_activation = output_activation.max()\n",
    "    one_hot_output = [val if val == max_activation else 0 \n",
    "                        for val in output_activation[0]]\n",
    "\n",
    "    activations[-1] = torch.FloatTensor([one_hot_output]).to(device)\n",
    "\n",
    "    relevances = [None] * n_layers + [activations[-1]]\n",
    "    for layer in range(0, n_layers)[::-1]:\n",
    "        current = layers[layer]\n",
    "        # Treat max pooling layers as avg pooling\n",
    "        if isinstance(current, torch.nn.MaxPool2d):\n",
    "            layers[layer] = torch.nn.AvgPool2d(2)\n",
    "            current = layers[layer]\n",
    "        if isinstance(current, torch.nn.Conv2d) or \\\n",
    "           isinstance(current, torch.nn.AvgPool2d) or\\\n",
    "           isinstance(current, torch.nn.Linear):\n",
    "            activations[layer] = activations[layer].data.requires_grad_(True)\n",
    "            \n",
    "            # Apply variants of LRP depending on the depth\n",
    "            # Lower layers, LRP-gamma >> Favor positive contributions (activations)\n",
    "            if layer <= 16:       rho = lambda p: p + 0.25*p.clamp(min=0); incr = lambda z: z+1e-9\n",
    "            # Middle layers, LRP-epsilon >> Remove some noise / Only most salient factors survive\n",
    "            if 17 <= layer <= 30: rho = lambda p: p;                       incr = lambda z: z+1e-9+0.25*((z**2).mean()**.5).data\n",
    "            # Upper Layers, LRP-0 >> Basic rule\n",
    "            if layer >= 31:       rho = lambda p: p;                       incr = lambda z: z+1e-9\n",
    "            \n",
    "            # Transform weights of layer and execute forward pass\n",
    "            z = incr(new_layer(layers[layer],rho).forward(activations[layer]))\n",
    "            # Element-wise division between relevance of the next layer and z\n",
    "            s = (relevances[layer+1]/z).data                                     \n",
    "            # Calculate the gradient and multiply it by the activation\n",
    "            (z * s).sum().backward(); \n",
    "            c = activations[layer].grad       \n",
    "            # Assign new relevance values           \n",
    "            relevances[layer] = (activations[layer]*c).data                          \n",
    "        else:\n",
    "            relevances[layer] = relevances[layer+1]\n",
    "\n",
    "    return relevances[0]\n"
   ]
  },
  {
   "cell_type": "code",
   "execution_count": 35,
   "metadata": {},
   "outputs": [
    {
     "name": "stdout",
     "output_type": "stream",
     "text": [
      "Groundtruth for this image:  2\n"
     ]
    },
    {
     "data": {
      "image/png": "[encoded data removed]",
      "text/plain": [
       "<Figure size 432x288 with 2 Axes>"
      ]
     },
     "metadata": {
      "needs_background": "light"
     },
     "output_type": "display_data"
    }
   ],
   "source": [
    "image_id =7\n",
    "image_relevances = apply_lrp(model, imgs[image_id])\n",
    "image_relevances = image_relevances.permute(0,2,3,1).detach().cpu().numpy()[0]\n",
    "image_relevances = np.interp(image_relevances, (image_relevances.min(),\n",
    "                                                image_relevances.max()), \n",
    "                                                (0, 1))\n",
    "# Show relevances\n",
    "pred_label = targets[image_id]\n",
    "if outputs[image_id] == targets[image_id]:\n",
    "    print(\"Groundtruth for this image: \", pred_label)\n",
    "\n",
    "    # Plot images next to each other\n",
    "    plt.axis('off')\n",
    "    plt.subplot(1,2,1)\n",
    "    plt.imshow(image_relevances[:,:,0], cmap=\"Reds\")\n",
    "    plt.subplot(1,2,2)\n",
    "    plt.imshow(imgs[image_id].permute(1,2,0).detach().cpu().numpy(),\"Greys\")\n",
    "    plt.show()\n",
    "else:\n",
    "    print(\"This image is not classified correctly.\")\n",
    "\n",
    "# %%"
   ]
  },
  {
   "cell_type": "code",
   "execution_count": null,
   "metadata": {},
   "outputs": [],
   "source": []
  }
 ],
 "metadata": {
  "kernelspec": {
   "display_name": "Python 3",
   "language": "python",
   "name": "python3"
  },
  "language_info": {
   "codemirror_mode": {
    "name": "ipython",
    "version": 3
   },
   "file_extension": ".py",
   "mimetype": "text/x-python",
   "name": "python",
   "nbconvert_exporter": "python",
   "pygments_lexer": "ipython3",
   "version": "3.8.5"
  }
 },
 "nbformat": 4,
 "nbformat_minor": 4
}
